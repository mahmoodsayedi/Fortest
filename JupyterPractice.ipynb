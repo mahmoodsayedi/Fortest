{
 "cells": [
  {
   "cell_type": "code",
   "execution_count": 1,
   "id": "c3b56d5f",
   "metadata": {},
   "outputs": [],
   "source": [
    "import pandas as pd\n",
    "import matplotlib.pyplot as plt\n",
    "import warnings\n",
    "warnings.filterwarnings('ignore')"
   ]
  },
  {
   "cell_type": "code",
   "execution_count": 2,
   "id": "062c152a",
   "metadata": {},
   "outputs": [],
   "source": [
    "pd.set_option('display.max_rows', 200)"
   ]
  },
  {
   "cell_type": "code",
   "execution_count": 3,
   "id": "0d109f1f",
   "metadata": {},
   "outputs": [
    {
     "data": {
      "text/plain": [
       "(15, 5)"
      ]
     },
     "execution_count": 3,
     "metadata": {},
     "output_type": "execute_result"
    }
   ],
   "source": [
    "school_data_df = pd.read_csv(\"Resources/schools_complete.csv\")\n",
    "school_data_df.shape"
   ]
  },
  {
   "cell_type": "code",
   "execution_count": 4,
   "id": "a4ac10d6",
   "metadata": {},
   "outputs": [
    {
     "data": {
      "text/html": [
       "<div>\n",
       "<style scoped>\n",
       "    .dataframe tbody tr th:only-of-type {\n",
       "        vertical-align: middle;\n",
       "    }\n",
       "\n",
       "    .dataframe tbody tr th {\n",
       "        vertical-align: top;\n",
       "    }\n",
       "\n",
       "    .dataframe thead th {\n",
       "        text-align: right;\n",
       "    }\n",
       "</style>\n",
       "<table border=\"1\" class=\"dataframe\">\n",
       "  <thead>\n",
       "    <tr style=\"text-align: right;\">\n",
       "      <th></th>\n",
       "      <th>Student ID</th>\n",
       "      <th>student_name</th>\n",
       "      <th>gender</th>\n",
       "      <th>grade</th>\n",
       "      <th>school_name</th>\n",
       "      <th>reading_score</th>\n",
       "      <th>math_score</th>\n",
       "    </tr>\n",
       "  </thead>\n",
       "  <tbody>\n",
       "    <tr>\n",
       "      <th>0</th>\n",
       "      <td>0</td>\n",
       "      <td>Paul Bradley</td>\n",
       "      <td>M</td>\n",
       "      <td>9th</td>\n",
       "      <td>Huang High School</td>\n",
       "      <td>66</td>\n",
       "      <td>79</td>\n",
       "    </tr>\n",
       "    <tr>\n",
       "      <th>1</th>\n",
       "      <td>1</td>\n",
       "      <td>Victor Smith</td>\n",
       "      <td>M</td>\n",
       "      <td>12th</td>\n",
       "      <td>Huang High School</td>\n",
       "      <td>94</td>\n",
       "      <td>61</td>\n",
       "    </tr>\n",
       "    <tr>\n",
       "      <th>2</th>\n",
       "      <td>2</td>\n",
       "      <td>Kevin Rodriguez</td>\n",
       "      <td>M</td>\n",
       "      <td>12th</td>\n",
       "      <td>Huang High School</td>\n",
       "      <td>90</td>\n",
       "      <td>60</td>\n",
       "    </tr>\n",
       "    <tr>\n",
       "      <th>3</th>\n",
       "      <td>3</td>\n",
       "      <td>Dr. Richard Scott</td>\n",
       "      <td>M</td>\n",
       "      <td>12th</td>\n",
       "      <td>Huang High School</td>\n",
       "      <td>67</td>\n",
       "      <td>58</td>\n",
       "    </tr>\n",
       "    <tr>\n",
       "      <th>4</th>\n",
       "      <td>4</td>\n",
       "      <td>Bonnie Ray</td>\n",
       "      <td>F</td>\n",
       "      <td>9th</td>\n",
       "      <td>Huang High School</td>\n",
       "      <td>97</td>\n",
       "      <td>84</td>\n",
       "    </tr>\n",
       "    <tr>\n",
       "      <th>...</th>\n",
       "      <td>...</td>\n",
       "      <td>...</td>\n",
       "      <td>...</td>\n",
       "      <td>...</td>\n",
       "      <td>...</td>\n",
       "      <td>...</td>\n",
       "      <td>...</td>\n",
       "    </tr>\n",
       "    <tr>\n",
       "      <th>39165</th>\n",
       "      <td>39165</td>\n",
       "      <td>Donna Howard</td>\n",
       "      <td>F</td>\n",
       "      <td>12th</td>\n",
       "      <td>Thomas High School</td>\n",
       "      <td>99</td>\n",
       "      <td>90</td>\n",
       "    </tr>\n",
       "    <tr>\n",
       "      <th>39166</th>\n",
       "      <td>39166</td>\n",
       "      <td>Dawn Bell</td>\n",
       "      <td>F</td>\n",
       "      <td>10th</td>\n",
       "      <td>Thomas High School</td>\n",
       "      <td>95</td>\n",
       "      <td>70</td>\n",
       "    </tr>\n",
       "    <tr>\n",
       "      <th>39167</th>\n",
       "      <td>39167</td>\n",
       "      <td>Rebecca Tanner</td>\n",
       "      <td>F</td>\n",
       "      <td>9th</td>\n",
       "      <td>Thomas High School</td>\n",
       "      <td>73</td>\n",
       "      <td>84</td>\n",
       "    </tr>\n",
       "    <tr>\n",
       "      <th>39168</th>\n",
       "      <td>39168</td>\n",
       "      <td>Desiree Kidd</td>\n",
       "      <td>F</td>\n",
       "      <td>10th</td>\n",
       "      <td>Thomas High School</td>\n",
       "      <td>99</td>\n",
       "      <td>90</td>\n",
       "    </tr>\n",
       "    <tr>\n",
       "      <th>39169</th>\n",
       "      <td>39169</td>\n",
       "      <td>Carolyn Jackson</td>\n",
       "      <td>F</td>\n",
       "      <td>11th</td>\n",
       "      <td>Thomas High School</td>\n",
       "      <td>95</td>\n",
       "      <td>75</td>\n",
       "    </tr>\n",
       "  </tbody>\n",
       "</table>\n",
       "<p>39170 rows × 7 columns</p>\n",
       "</div>"
      ],
      "text/plain": [
       "       Student ID       student_name gender grade         school_name  \\\n",
       "0               0       Paul Bradley      M   9th   Huang High School   \n",
       "1               1       Victor Smith      M  12th   Huang High School   \n",
       "2               2    Kevin Rodriguez      M  12th   Huang High School   \n",
       "3               3  Dr. Richard Scott      M  12th   Huang High School   \n",
       "4               4         Bonnie Ray      F   9th   Huang High School   \n",
       "...           ...                ...    ...   ...                 ...   \n",
       "39165       39165       Donna Howard      F  12th  Thomas High School   \n",
       "39166       39166          Dawn Bell      F  10th  Thomas High School   \n",
       "39167       39167     Rebecca Tanner      F   9th  Thomas High School   \n",
       "39168       39168       Desiree Kidd      F  10th  Thomas High School   \n",
       "39169       39169    Carolyn Jackson      F  11th  Thomas High School   \n",
       "\n",
       "       reading_score  math_score  \n",
       "0                 66          79  \n",
       "1                 94          61  \n",
       "2                 90          60  \n",
       "3                 67          58  \n",
       "4                 97          84  \n",
       "...              ...         ...  \n",
       "39165             99          90  \n",
       "39166             95          70  \n",
       "39167             73          84  \n",
       "39168             99          90  \n",
       "39169             95          75  \n",
       "\n",
       "[39170 rows x 7 columns]"
      ]
     },
     "execution_count": 4,
     "metadata": {},
     "output_type": "execute_result"
    }
   ],
   "source": [
    "student_data_df = pd.read_csv(\"Resources/students_complete.csv\")\n",
    "student_data_df"
   ]
  },
  {
   "cell_type": "code",
   "execution_count": 5,
   "id": "d739544f",
   "metadata": {},
   "outputs": [],
   "source": [
    "pd.set_option('display.max_rows', 200)"
   ]
  },
  {
   "cell_type": "code",
   "execution_count": 6,
   "id": "f78fbbe3",
   "metadata": {},
   "outputs": [
    {
     "data": {
      "text/html": [
       "<div>\n",
       "<style scoped>\n",
       "    .dataframe tbody tr th:only-of-type {\n",
       "        vertical-align: middle;\n",
       "    }\n",
       "\n",
       "    .dataframe tbody tr th {\n",
       "        vertical-align: top;\n",
       "    }\n",
       "\n",
       "    .dataframe thead th {\n",
       "        text-align: right;\n",
       "    }\n",
       "</style>\n",
       "<table border=\"1\" class=\"dataframe\">\n",
       "  <thead>\n",
       "    <tr style=\"text-align: right;\">\n",
       "      <th></th>\n",
       "      <th>School ID</th>\n",
       "      <th>school_name</th>\n",
       "      <th>type</th>\n",
       "      <th>size</th>\n",
       "      <th>budget</th>\n",
       "    </tr>\n",
       "  </thead>\n",
       "  <tbody>\n",
       "    <tr>\n",
       "      <th>0</th>\n",
       "      <td>0</td>\n",
       "      <td>Huang High School</td>\n",
       "      <td>District</td>\n",
       "      <td>2917</td>\n",
       "      <td>1910635</td>\n",
       "    </tr>\n",
       "    <tr>\n",
       "      <th>1</th>\n",
       "      <td>1</td>\n",
       "      <td>Figueroa High School</td>\n",
       "      <td>District</td>\n",
       "      <td>2949</td>\n",
       "      <td>1884411</td>\n",
       "    </tr>\n",
       "    <tr>\n",
       "      <th>2</th>\n",
       "      <td>2</td>\n",
       "      <td>Shelton High School</td>\n",
       "      <td>Charter</td>\n",
       "      <td>1761</td>\n",
       "      <td>1056600</td>\n",
       "    </tr>\n",
       "    <tr>\n",
       "      <th>3</th>\n",
       "      <td>3</td>\n",
       "      <td>Hernandez High School</td>\n",
       "      <td>District</td>\n",
       "      <td>4635</td>\n",
       "      <td>3022020</td>\n",
       "    </tr>\n",
       "    <tr>\n",
       "      <th>4</th>\n",
       "      <td>4</td>\n",
       "      <td>Griffin High School</td>\n",
       "      <td>Charter</td>\n",
       "      <td>1468</td>\n",
       "      <td>917500</td>\n",
       "    </tr>\n",
       "    <tr>\n",
       "      <th>5</th>\n",
       "      <td>5</td>\n",
       "      <td>Wilson High School</td>\n",
       "      <td>Charter</td>\n",
       "      <td>2283</td>\n",
       "      <td>1319574</td>\n",
       "    </tr>\n",
       "    <tr>\n",
       "      <th>6</th>\n",
       "      <td>6</td>\n",
       "      <td>Cabrera High School</td>\n",
       "      <td>Charter</td>\n",
       "      <td>1858</td>\n",
       "      <td>1081356</td>\n",
       "    </tr>\n",
       "    <tr>\n",
       "      <th>7</th>\n",
       "      <td>7</td>\n",
       "      <td>Bailey High School</td>\n",
       "      <td>District</td>\n",
       "      <td>4976</td>\n",
       "      <td>3124928</td>\n",
       "    </tr>\n",
       "    <tr>\n",
       "      <th>8</th>\n",
       "      <td>8</td>\n",
       "      <td>Holden High School</td>\n",
       "      <td>Charter</td>\n",
       "      <td>427</td>\n",
       "      <td>248087</td>\n",
       "    </tr>\n",
       "    <tr>\n",
       "      <th>9</th>\n",
       "      <td>9</td>\n",
       "      <td>Pena High School</td>\n",
       "      <td>Charter</td>\n",
       "      <td>962</td>\n",
       "      <td>585858</td>\n",
       "    </tr>\n",
       "    <tr>\n",
       "      <th>10</th>\n",
       "      <td>10</td>\n",
       "      <td>Wright High School</td>\n",
       "      <td>Charter</td>\n",
       "      <td>1800</td>\n",
       "      <td>1049400</td>\n",
       "    </tr>\n",
       "    <tr>\n",
       "      <th>11</th>\n",
       "      <td>11</td>\n",
       "      <td>Rodriguez High School</td>\n",
       "      <td>District</td>\n",
       "      <td>3999</td>\n",
       "      <td>2547363</td>\n",
       "    </tr>\n",
       "    <tr>\n",
       "      <th>12</th>\n",
       "      <td>12</td>\n",
       "      <td>Johnson High School</td>\n",
       "      <td>District</td>\n",
       "      <td>4761</td>\n",
       "      <td>3094650</td>\n",
       "    </tr>\n",
       "    <tr>\n",
       "      <th>13</th>\n",
       "      <td>13</td>\n",
       "      <td>Ford High School</td>\n",
       "      <td>District</td>\n",
       "      <td>2739</td>\n",
       "      <td>1763916</td>\n",
       "    </tr>\n",
       "    <tr>\n",
       "      <th>14</th>\n",
       "      <td>14</td>\n",
       "      <td>Thomas High School</td>\n",
       "      <td>Charter</td>\n",
       "      <td>1635</td>\n",
       "      <td>1043130</td>\n",
       "    </tr>\n",
       "  </tbody>\n",
       "</table>\n",
       "</div>"
      ],
      "text/plain": [
       "    School ID            school_name      type  size   budget\n",
       "0           0      Huang High School  District  2917  1910635\n",
       "1           1   Figueroa High School  District  2949  1884411\n",
       "2           2    Shelton High School   Charter  1761  1056600\n",
       "3           3  Hernandez High School  District  4635  3022020\n",
       "4           4    Griffin High School   Charter  1468   917500\n",
       "5           5     Wilson High School   Charter  2283  1319574\n",
       "6           6    Cabrera High School   Charter  1858  1081356\n",
       "7           7     Bailey High School  District  4976  3124928\n",
       "8           8     Holden High School   Charter   427   248087\n",
       "9           9       Pena High School   Charter   962   585858\n",
       "10         10     Wright High School   Charter  1800  1049400\n",
       "11         11  Rodriguez High School  District  3999  2547363\n",
       "12         12    Johnson High School  District  4761  3094650\n",
       "13         13       Ford High School  District  2739  1763916\n",
       "14         14     Thomas High School   Charter  1635  1043130"
      ]
     },
     "execution_count": 6,
     "metadata": {},
     "output_type": "execute_result"
    }
   ],
   "source": [
    "school_data_df"
   ]
  },
  {
   "cell_type": "code",
   "execution_count": 7,
   "id": "a8b0bcec",
   "metadata": {},
   "outputs": [
    {
     "data": {
      "text/plain": [
       "Student ID       39170\n",
       "student_name     39170\n",
       "gender           39170\n",
       "grade            39170\n",
       "school_name      39170\n",
       "reading_score    39170\n",
       "math_score       39170\n",
       "dtype: int64"
      ]
     },
     "execution_count": 7,
     "metadata": {},
     "output_type": "execute_result"
    }
   ],
   "source": [
    "student_data_df.count()"
   ]
  },
  {
   "cell_type": "code",
   "execution_count": 8,
   "id": "3f9e4568",
   "metadata": {},
   "outputs": [
    {
     "data": {
      "text/plain": [
       "Student ID       39170\n",
       "student_name     39170\n",
       "gender           39170\n",
       "grade            39170\n",
       "school_name      39170\n",
       "reading_score    39170\n",
       "math_score       39170\n",
       "dtype: int64"
      ]
     },
     "execution_count": 8,
     "metadata": {},
     "output_type": "execute_result"
    }
   ],
   "source": [
    "student_data_df.notnull().sum()"
   ]
  },
  {
   "cell_type": "code",
   "execution_count": 9,
   "id": "2dbd8b94",
   "metadata": {},
   "outputs": [],
   "source": [
    "missing_df = pd.read_csv(r\"C:\\Users\\mahmo\\Downloads\\missing_grades.csv\")"
   ]
  },
  {
   "cell_type": "code",
   "execution_count": 10,
   "id": "7c7d9d20",
   "metadata": {},
   "outputs": [
    {
     "data": {
      "text/plain": [
       "0       Paul Bradley\n",
       "1       Victor Smith\n",
       "2    Kevin Rodriguez\n",
       "3      Richard Scott\n",
       "4         Bonnie Ray\n",
       "5      Bryan Miranda\n",
       "6       Sheena Carte\n",
       "7        Nicole Bake\n",
       "Name: student_name, dtype: object"
      ]
     },
     "execution_count": 10,
     "metadata": {},
     "output_type": "execute_result"
    }
   ],
   "source": [
    "missing_df['student_name'].str.strip('Dr.')"
   ]
  },
  {
   "cell_type": "code",
   "execution_count": null,
   "id": "422be33d",
   "metadata": {},
   "outputs": [],
   "source": []
  },
  {
   "cell_type": "code",
   "execution_count": 11,
   "id": "ca741973",
   "metadata": {},
   "outputs": [],
   "source": [
    "missing_df[['first name', 'last name', 'None']]=missing_df['student_name'].str.split(' ', expand=True)"
   ]
  },
  {
   "cell_type": "code",
   "execution_count": 12,
   "id": "c5d8834d",
   "metadata": {},
   "outputs": [
    {
     "data": {
      "text/html": [
       "<div>\n",
       "<style scoped>\n",
       "    .dataframe tbody tr th:only-of-type {\n",
       "        vertical-align: middle;\n",
       "    }\n",
       "\n",
       "    .dataframe tbody tr th {\n",
       "        vertical-align: top;\n",
       "    }\n",
       "\n",
       "    .dataframe thead th {\n",
       "        text-align: right;\n",
       "    }\n",
       "</style>\n",
       "<table border=\"1\" class=\"dataframe\">\n",
       "  <thead>\n",
       "    <tr style=\"text-align: right;\">\n",
       "      <th></th>\n",
       "      <th>Student ID</th>\n",
       "      <th>student_name</th>\n",
       "      <th>gender</th>\n",
       "      <th>grade</th>\n",
       "      <th>reading_score</th>\n",
       "      <th>math_score</th>\n",
       "      <th>first name</th>\n",
       "      <th>last name</th>\n",
       "    </tr>\n",
       "  </thead>\n",
       "  <tbody>\n",
       "    <tr>\n",
       "      <th>0</th>\n",
       "      <td>0</td>\n",
       "      <td>Paul Bradley</td>\n",
       "      <td>M</td>\n",
       "      <td>9th</td>\n",
       "      <td>66.0</td>\n",
       "      <td>79.0</td>\n",
       "      <td>Paul</td>\n",
       "      <td>Bradley</td>\n",
       "    </tr>\n",
       "    <tr>\n",
       "      <th>1</th>\n",
       "      <td>1</td>\n",
       "      <td>Victor Smith</td>\n",
       "      <td>M</td>\n",
       "      <td>12th</td>\n",
       "      <td>94.0</td>\n",
       "      <td>61.0</td>\n",
       "      <td>Victor</td>\n",
       "      <td>Smith</td>\n",
       "    </tr>\n",
       "    <tr>\n",
       "      <th>2</th>\n",
       "      <td>2</td>\n",
       "      <td>Kevin Rodriguez</td>\n",
       "      <td>M</td>\n",
       "      <td>12th</td>\n",
       "      <td>NaN</td>\n",
       "      <td>60.0</td>\n",
       "      <td>Kevin</td>\n",
       "      <td>Rodriguez</td>\n",
       "    </tr>\n",
       "    <tr>\n",
       "      <th>3</th>\n",
       "      <td>3</td>\n",
       "      <td>Dr. Richard Scott</td>\n",
       "      <td>M</td>\n",
       "      <td>12th</td>\n",
       "      <td>67.0</td>\n",
       "      <td>58.0</td>\n",
       "      <td>Dr.</td>\n",
       "      <td>Richard</td>\n",
       "    </tr>\n",
       "    <tr>\n",
       "      <th>4</th>\n",
       "      <td>4</td>\n",
       "      <td>Bonnie Ray</td>\n",
       "      <td>F</td>\n",
       "      <td>9th</td>\n",
       "      <td>97.0</td>\n",
       "      <td>84.0</td>\n",
       "      <td>Bonnie</td>\n",
       "      <td>Ray</td>\n",
       "    </tr>\n",
       "    <tr>\n",
       "      <th>5</th>\n",
       "      <td>5</td>\n",
       "      <td>Bryan Miranda</td>\n",
       "      <td>M</td>\n",
       "      <td>9th</td>\n",
       "      <td>94.0</td>\n",
       "      <td>NaN</td>\n",
       "      <td>Bryan</td>\n",
       "      <td>Miranda</td>\n",
       "    </tr>\n",
       "    <tr>\n",
       "      <th>6</th>\n",
       "      <td>6</td>\n",
       "      <td>Sheena Carter</td>\n",
       "      <td>F</td>\n",
       "      <td>11th</td>\n",
       "      <td>82.0</td>\n",
       "      <td>80.0</td>\n",
       "      <td>Sheena</td>\n",
       "      <td>Carter</td>\n",
       "    </tr>\n",
       "    <tr>\n",
       "      <th>7</th>\n",
       "      <td>7</td>\n",
       "      <td>Nicole Baker</td>\n",
       "      <td>F</td>\n",
       "      <td>12th</td>\n",
       "      <td>96.0</td>\n",
       "      <td>69.0</td>\n",
       "      <td>Nicole</td>\n",
       "      <td>Baker</td>\n",
       "    </tr>\n",
       "  </tbody>\n",
       "</table>\n",
       "</div>"
      ],
      "text/plain": [
       "   Student ID       student_name gender grade  reading_score  math_score  \\\n",
       "0           0       Paul Bradley      M   9th           66.0        79.0   \n",
       "1           1       Victor Smith      M  12th           94.0        61.0   \n",
       "2           2    Kevin Rodriguez      M  12th            NaN        60.0   \n",
       "3           3  Dr. Richard Scott      M  12th           67.0        58.0   \n",
       "4           4         Bonnie Ray      F   9th           97.0        84.0   \n",
       "5           5      Bryan Miranda      M   9th           94.0         NaN   \n",
       "6           6      Sheena Carter      F  11th           82.0        80.0   \n",
       "7           7       Nicole Baker      F  12th           96.0        69.0   \n",
       "\n",
       "  first name  last name  \n",
       "0       Paul    Bradley  \n",
       "1     Victor      Smith  \n",
       "2      Kevin  Rodriguez  \n",
       "3        Dr.    Richard  \n",
       "4     Bonnie        Ray  \n",
       "5      Bryan    Miranda  \n",
       "6     Sheena     Carter  \n",
       "7     Nicole      Baker  "
      ]
     },
     "execution_count": 12,
     "metadata": {},
     "output_type": "execute_result"
    }
   ],
   "source": [
    "missing_df.drop('None', axis=1) "
   ]
  },
  {
   "cell_type": "code",
   "execution_count": 13,
   "id": "20ff5e29",
   "metadata": {},
   "outputs": [],
   "source": [
    "missing_df.dropna(inplace=True)"
   ]
  },
  {
   "cell_type": "code",
   "execution_count": null,
   "id": "4a8a8475",
   "metadata": {},
   "outputs": [],
   "source": []
  },
  {
   "cell_type": "code",
   "execution_count": 14,
   "id": "451df831",
   "metadata": {},
   "outputs": [
    {
     "data": {
      "text/plain": [
       "Student ID        int64\n",
       "student_name     object\n",
       "gender           object\n",
       "grade            object\n",
       "school_name      object\n",
       "reading_score     int64\n",
       "math_score        int64\n",
       "dtype: object"
      ]
     },
     "execution_count": 14,
     "metadata": {},
     "output_type": "execute_result"
    }
   ],
   "source": [
    "student_data_df.dtypes\n",
    "\n"
   ]
  },
  {
   "cell_type": "code",
   "execution_count": 15,
   "id": "6fd469cb",
   "metadata": {},
   "outputs": [
    {
     "data": {
      "text/plain": [
       "School ID       int64\n",
       "school_name    object\n",
       "type           object\n",
       "size            int64\n",
       "budget          int64\n",
       "dtype: object"
      ]
     },
     "execution_count": 15,
     "metadata": {},
     "output_type": "execute_result"
    }
   ],
   "source": [
    "school_data_df.dtypes"
   ]
  },
  {
   "cell_type": "code",
   "execution_count": 16,
   "id": "86e368f5",
   "metadata": {},
   "outputs": [],
   "source": [
    "prefixes_suffixes = [\"Dr. \", \"Mr. \",\"Ms. \", \"Mrs. \", \"Miss \",\n",
    "                     \" MD\", \" DDS\", \" DVM\", \" PhD\"]"
   ]
  },
  {
   "cell_type": "code",
   "execution_count": 17,
   "id": "f1ba4c49",
   "metadata": {},
   "outputs": [],
   "source": [
    "for word in prefixes_suffixes:\n",
    "    student_data_df['student_name'] = student_data_df['student_name'].str.replace(word,'')"
   ]
  },
  {
   "cell_type": "code",
   "execution_count": 18,
   "id": "2d8af306",
   "metadata": {},
   "outputs": [],
   "source": [
    "school_data_complete = pd.merge(student_data_df,school_data_df, on=['school_name', 'school_name'])"
   ]
  },
  {
   "cell_type": "code",
   "execution_count": 19,
   "id": "d07c05de",
   "metadata": {},
   "outputs": [],
   "source": [
    "student_count = school_data_complete['student_name'].count()"
   ]
  },
  {
   "cell_type": "code",
   "execution_count": 20,
   "id": "5a78e099",
   "metadata": {},
   "outputs": [],
   "source": [
    "school_count = school_data_df.count()"
   ]
  },
  {
   "cell_type": "code",
   "execution_count": 21,
   "id": "da192c18",
   "metadata": {},
   "outputs": [],
   "source": [
    "total_budget = school_data_df['budget'].sum()"
   ]
  },
  {
   "cell_type": "code",
   "execution_count": 22,
   "id": "13fd6e3c",
   "metadata": {},
   "outputs": [
    {
     "name": "stdout",
     "output_type": "stream",
     "text": [
      "$24,649,428.00\n"
     ]
    }
   ],
   "source": [
    "print(f\"${total_budget:,.2f}\")"
   ]
  },
  {
   "cell_type": "code",
   "execution_count": 23,
   "id": "2a4f0984",
   "metadata": {},
   "outputs": [],
   "source": [
    "avg_reading_score=school_data_complete['reading_score'].mean() "
   ]
  },
  {
   "cell_type": "code",
   "execution_count": 24,
   "id": "8476717d",
   "metadata": {},
   "outputs": [],
   "source": [
    "avg_math_score = school_data_complete['math_score'].mean()"
   ]
  },
  {
   "cell_type": "code",
   "execution_count": 25,
   "id": "8c77c2cf",
   "metadata": {},
   "outputs": [],
   "source": [
    "passing_math = school_data_complete['math_score'] >= 70\n"
   ]
  },
  {
   "cell_type": "code",
   "execution_count": 26,
   "id": "a22a7862",
   "metadata": {},
   "outputs": [],
   "source": [
    "passing_reading = school_data_complete['reading_score'] >=70"
   ]
  },
  {
   "cell_type": "code",
   "execution_count": 27,
   "id": "541c53db",
   "metadata": {},
   "outputs": [],
   "source": [
    "passing_math = school_data_complete[passing_math]"
   ]
  },
  {
   "cell_type": "code",
   "execution_count": 28,
   "id": "235e5b8a",
   "metadata": {},
   "outputs": [],
   "source": [
    "passing_reading = school_data_complete[passing_reading]"
   ]
  },
  {
   "cell_type": "code",
   "execution_count": 29,
   "id": "97058835",
   "metadata": {},
   "outputs": [],
   "source": [
    "passing_math_count = passing_math['student_name'].count()\n",
    "passing_reading_count = passing_reading['student_name'].count()"
   ]
  },
  {
   "cell_type": "code",
   "execution_count": 30,
   "id": "b42fe86d",
   "metadata": {},
   "outputs": [
    {
     "data": {
      "text/plain": [
       "29370"
      ]
     },
     "execution_count": 30,
     "metadata": {},
     "output_type": "execute_result"
    }
   ],
   "source": [
    "passing_math_count"
   ]
  },
  {
   "cell_type": "code",
   "execution_count": 31,
   "id": "9a330a13",
   "metadata": {},
   "outputs": [
    {
     "data": {
      "text/plain": [
       "33610"
      ]
     },
     "execution_count": 31,
     "metadata": {},
     "output_type": "execute_result"
    }
   ],
   "source": [
    "passing_reading_count"
   ]
  },
  {
   "cell_type": "code",
   "execution_count": 32,
   "id": "b8334a5f",
   "metadata": {},
   "outputs": [],
   "source": [
    "student_count = school_data_complete['Student ID'].count()"
   ]
  },
  {
   "cell_type": "code",
   "execution_count": 33,
   "id": "a2a87adc",
   "metadata": {},
   "outputs": [],
   "source": [
    "passing_math_per = float(passing_math_count)/student_count*100"
   ]
  },
  {
   "cell_type": "code",
   "execution_count": 34,
   "id": "d004e6a2",
   "metadata": {},
   "outputs": [
    {
     "data": {
      "text/plain": [
       "74.9808526933878"
      ]
     },
     "execution_count": 34,
     "metadata": {},
     "output_type": "execute_result"
    }
   ],
   "source": [
    "passing_math_per"
   ]
  },
  {
   "cell_type": "code",
   "execution_count": 35,
   "id": "680046ac",
   "metadata": {},
   "outputs": [],
   "source": [
    "passing_reading_per = float(passing_reading_count)/student_count*100"
   ]
  },
  {
   "cell_type": "code",
   "execution_count": 36,
   "id": "0b40a337",
   "metadata": {},
   "outputs": [
    {
     "data": {
      "text/plain": [
       "85.80546336482001"
      ]
     },
     "execution_count": 36,
     "metadata": {},
     "output_type": "execute_result"
    }
   ],
   "source": [
    "passing_reading_per"
   ]
  },
  {
   "cell_type": "code",
   "execution_count": 37,
   "id": "9b037592",
   "metadata": {},
   "outputs": [],
   "source": [
    "passing_math_reading = school_data_complete[(school_data_complete['reading_score']>=70) & (school_data_complete['math_score']>=70)]"
   ]
  },
  {
   "cell_type": "code",
   "execution_count": 38,
   "id": "a6b6447b",
   "metadata": {},
   "outputs": [],
   "source": [
    "overall_math_reading_count = passing_math_reading['student_name'].count()"
   ]
  },
  {
   "cell_type": "code",
   "execution_count": 39,
   "id": "0589be31",
   "metadata": {},
   "outputs": [
    {
     "data": {
      "text/plain": [
       "25528"
      ]
     },
     "execution_count": 39,
     "metadata": {},
     "output_type": "execute_result"
    }
   ],
   "source": [
    "overall_math_reading_count"
   ]
  },
  {
   "cell_type": "code",
   "execution_count": 40,
   "id": "c2503b6d",
   "metadata": {},
   "outputs": [],
   "source": [
    "overall_passing_per = float(overall_math_reading_count)/student_count*100"
   ]
  },
  {
   "cell_type": "code",
   "execution_count": 41,
   "id": "629768f0",
   "metadata": {},
   "outputs": [
    {
     "data": {
      "text/plain": [
       "65.17232575950983"
      ]
     },
     "execution_count": 41,
     "metadata": {},
     "output_type": "execute_result"
    }
   ],
   "source": [
    "overall_passing_per"
   ]
  },
  {
   "cell_type": "code",
   "execution_count": 42,
   "id": "f54be1fe",
   "metadata": {},
   "outputs": [],
   "source": [
    "district_summary_df = pd.DataFrame({\"Total Schools\": school_count, \"Total Students\": student_count,\"Total Budget\": total_budget,\n",
    "                                   \"Average Math Score\":avg_math_score, \"Average Reading Score\": avg_reading_score,\n",
    "                                   \"% Passing Math\": passing_math_per, \"% Passing Reading\": passing_reading_per, \"% Overall Passing\":overall_passing_per})"
   ]
  },
  {
   "cell_type": "code",
   "execution_count": 43,
   "id": "c59335c8",
   "metadata": {},
   "outputs": [
    {
     "data": {
      "text/html": [
       "<div>\n",
       "<style scoped>\n",
       "    .dataframe tbody tr th:only-of-type {\n",
       "        vertical-align: middle;\n",
       "    }\n",
       "\n",
       "    .dataframe tbody tr th {\n",
       "        vertical-align: top;\n",
       "    }\n",
       "\n",
       "    .dataframe thead th {\n",
       "        text-align: right;\n",
       "    }\n",
       "</style>\n",
       "<table border=\"1\" class=\"dataframe\">\n",
       "  <thead>\n",
       "    <tr style=\"text-align: right;\">\n",
       "      <th></th>\n",
       "      <th>Total Schools</th>\n",
       "      <th>Total Students</th>\n",
       "      <th>Total Budget</th>\n",
       "      <th>Average Math Score</th>\n",
       "      <th>Average Reading Score</th>\n",
       "      <th>% Passing Math</th>\n",
       "      <th>% Passing Reading</th>\n",
       "      <th>% Overall Passing</th>\n",
       "    </tr>\n",
       "  </thead>\n",
       "  <tbody>\n",
       "    <tr>\n",
       "      <th>School ID</th>\n",
       "      <td>15</td>\n",
       "      <td>39170</td>\n",
       "      <td>24649428</td>\n",
       "      <td>78.985371</td>\n",
       "      <td>81.87784</td>\n",
       "      <td>74.980853</td>\n",
       "      <td>85.805463</td>\n",
       "      <td>65.172326</td>\n",
       "    </tr>\n",
       "    <tr>\n",
       "      <th>school_name</th>\n",
       "      <td>15</td>\n",
       "      <td>39170</td>\n",
       "      <td>24649428</td>\n",
       "      <td>78.985371</td>\n",
       "      <td>81.87784</td>\n",
       "      <td>74.980853</td>\n",
       "      <td>85.805463</td>\n",
       "      <td>65.172326</td>\n",
       "    </tr>\n",
       "    <tr>\n",
       "      <th>type</th>\n",
       "      <td>15</td>\n",
       "      <td>39170</td>\n",
       "      <td>24649428</td>\n",
       "      <td>78.985371</td>\n",
       "      <td>81.87784</td>\n",
       "      <td>74.980853</td>\n",
       "      <td>85.805463</td>\n",
       "      <td>65.172326</td>\n",
       "    </tr>\n",
       "    <tr>\n",
       "      <th>size</th>\n",
       "      <td>15</td>\n",
       "      <td>39170</td>\n",
       "      <td>24649428</td>\n",
       "      <td>78.985371</td>\n",
       "      <td>81.87784</td>\n",
       "      <td>74.980853</td>\n",
       "      <td>85.805463</td>\n",
       "      <td>65.172326</td>\n",
       "    </tr>\n",
       "    <tr>\n",
       "      <th>budget</th>\n",
       "      <td>15</td>\n",
       "      <td>39170</td>\n",
       "      <td>24649428</td>\n",
       "      <td>78.985371</td>\n",
       "      <td>81.87784</td>\n",
       "      <td>74.980853</td>\n",
       "      <td>85.805463</td>\n",
       "      <td>65.172326</td>\n",
       "    </tr>\n",
       "  </tbody>\n",
       "</table>\n",
       "</div>"
      ],
      "text/plain": [
       "             Total Schools  Total Students  Total Budget  Average Math Score  \\\n",
       "School ID               15           39170      24649428           78.985371   \n",
       "school_name             15           39170      24649428           78.985371   \n",
       "type                    15           39170      24649428           78.985371   \n",
       "size                    15           39170      24649428           78.985371   \n",
       "budget                  15           39170      24649428           78.985371   \n",
       "\n",
       "             Average Reading Score  % Passing Math  % Passing Reading  \\\n",
       "School ID                 81.87784       74.980853          85.805463   \n",
       "school_name               81.87784       74.980853          85.805463   \n",
       "type                      81.87784       74.980853          85.805463   \n",
       "size                      81.87784       74.980853          85.805463   \n",
       "budget                    81.87784       74.980853          85.805463   \n",
       "\n",
       "             % Overall Passing  \n",
       "School ID            65.172326  \n",
       "school_name          65.172326  \n",
       "type                 65.172326  \n",
       "size                 65.172326  \n",
       "budget               65.172326  "
      ]
     },
     "execution_count": 43,
     "metadata": {},
     "output_type": "execute_result"
    }
   ],
   "source": [
    "district_summary_df"
   ]
  },
  {
   "cell_type": "code",
   "execution_count": 44,
   "id": "9f09a402",
   "metadata": {},
   "outputs": [],
   "source": [
    "district_summary_df[\"Total Students\"] = district_summary_df[\"Total Students\"].map(\"{:,}\".format)"
   ]
  },
  {
   "cell_type": "code",
   "execution_count": 45,
   "id": "22483951",
   "metadata": {},
   "outputs": [],
   "source": [
    "district_summary_df['Total Budget'] = district_summary_df['Total Budget'].map(\"${:,}\".format)\n",
    "district_summary_df['Average Math Score'] = district_summary_df['Average Math Score'].map(\"{:.2f}\".format)\n",
    "district_summary_df['Average Reading Score'] = district_summary_df['Average Reading Score'].map(\"{:.2f}\".format)\n",
    "district_summary_df['% Passing Math'] = district_summary_df['% Passing Math'].map(\"{:.2f}\".format)\n",
    "district_summary_df['% Passing Reading'] = district_summary_df['% Passing Reading'].map(\"{:.2f}\".format)\n",
    "district_summary_df['% Overall Passing'] = district_summary_df['% Overall Passing'].map(\"{:.2f}\".format)"
   ]
  },
  {
   "cell_type": "code",
   "execution_count": 46,
   "id": "d7291572",
   "metadata": {},
   "outputs": [],
   "source": [
    "district_summary_df.reset_index(inplace=True)"
   ]
  },
  {
   "cell_type": "code",
   "execution_count": 47,
   "id": "de9967f9",
   "metadata": {},
   "outputs": [],
   "source": [
    "district_summary_df.drop(\"index\", axis=1, inplace=True)"
   ]
  },
  {
   "cell_type": "code",
   "execution_count": 48,
   "id": "8ab8954f",
   "metadata": {},
   "outputs": [],
   "source": [
    "#school summary\n",
    "\n",
    "per_school_types = school_data_df.set_index(['school_name'])['type']\n",
    "df = pd.DataFrame(per_school_types)\n",
    "per_school_counts = school_data_df.set_index(['school_name'])['size']\n",
    "per_school_budget = school_data_df.set_index(['school_name'])['budget']\n",
    "per_school_capita = per_school_budget/per_school_counts\n",
    "per_school_math = school_data_complete.groupby(['school_name']).mean()['math_score']\n",
    "per_school_reading = school_data_complete.groupby(['school_name']).mean()['reading_score']"
   ]
  },
  {
   "cell_type": "code",
   "execution_count": 49,
   "id": "d4ce8c57",
   "metadata": {},
   "outputs": [],
   "source": [
    "per_school_passing_math = school_data_complete[school_data_complete['math_score']>=70]\n",
    "per_school_passing_math = per_school_passing_math.groupby(['school_name']).count()['student_name']"
   ]
  },
  {
   "cell_type": "code",
   "execution_count": 50,
   "id": "9427eca4",
   "metadata": {},
   "outputs": [],
   "source": [
    "per_school_passing_reading = school_data_complete[school_data_complete['reading_score']>=70]"
   ]
  },
  {
   "cell_type": "code",
   "execution_count": 51,
   "id": "efa5d2cd",
   "metadata": {},
   "outputs": [],
   "source": [
    "per_school_passing_reading = per_school_passing_reading.groupby(['school_name']).count()['student_name']"
   ]
  },
  {
   "cell_type": "code",
   "execution_count": 52,
   "id": "ca829cfa",
   "metadata": {},
   "outputs": [],
   "source": [
    "per_school_passing_math_per = per_school_passing_math/per_school_counts*100\n"
   ]
  },
  {
   "cell_type": "code",
   "execution_count": 53,
   "id": "3133e9aa",
   "metadata": {},
   "outputs": [],
   "source": [
    "per_school_passing_reading_per = per_school_passing_reading/per_school_counts*100"
   ]
  },
  {
   "cell_type": "code",
   "execution_count": 54,
   "id": "fd1a996e",
   "metadata": {},
   "outputs": [],
   "source": [
    "per_passing_math_reading = school_data_complete[(school_data_complete['math_score']>=70) & (school_data_complete['reading_score']>=70)]"
   ]
  },
  {
   "cell_type": "code",
   "execution_count": 55,
   "id": "cbbc7c98",
   "metadata": {},
   "outputs": [],
   "source": [
    "per_passing_math_reading = per_passing_math_reading.groupby(['school_name']).count()['student_name']"
   ]
  },
  {
   "cell_type": "code",
   "execution_count": 56,
   "id": "68ddeb5e",
   "metadata": {},
   "outputs": [],
   "source": [
    "per_overall_passing_percentage = per_passing_math_reading/per_school_counts*100"
   ]
  },
  {
   "cell_type": "code",
   "execution_count": 57,
   "id": "3e4c27ce",
   "metadata": {},
   "outputs": [
    {
     "data": {
      "text/html": [
       "<div>\n",
       "<style scoped>\n",
       "    .dataframe tbody tr th:only-of-type {\n",
       "        vertical-align: middle;\n",
       "    }\n",
       "\n",
       "    .dataframe tbody tr th {\n",
       "        vertical-align: top;\n",
       "    }\n",
       "\n",
       "    .dataframe thead th {\n",
       "        text-align: right;\n",
       "    }\n",
       "</style>\n",
       "<table border=\"1\" class=\"dataframe\">\n",
       "  <thead>\n",
       "    <tr style=\"text-align: right;\">\n",
       "      <th></th>\n",
       "      <th>School Type</th>\n",
       "      <th>Total Students</th>\n",
       "      <th>Total School Budget</th>\n",
       "      <th>Per Student Budget</th>\n",
       "      <th>Average Math Score</th>\n",
       "      <th>Average Reading Score</th>\n",
       "      <th>% Passing Math</th>\n",
       "      <th>% Passing Reading</th>\n",
       "      <th>% Overall Passing</th>\n",
       "    </tr>\n",
       "    <tr>\n",
       "      <th>school_name</th>\n",
       "      <th></th>\n",
       "      <th></th>\n",
       "      <th></th>\n",
       "      <th></th>\n",
       "      <th></th>\n",
       "      <th></th>\n",
       "      <th></th>\n",
       "      <th></th>\n",
       "      <th></th>\n",
       "    </tr>\n",
       "  </thead>\n",
       "  <tbody>\n",
       "    <tr>\n",
       "      <th>Bailey High School</th>\n",
       "      <td>District</td>\n",
       "      <td>4976</td>\n",
       "      <td>3124928</td>\n",
       "      <td>628.0</td>\n",
       "      <td>77.048432</td>\n",
       "      <td>81.033963</td>\n",
       "      <td>3318</td>\n",
       "      <td>4077</td>\n",
       "      <td>54.642283</td>\n",
       "    </tr>\n",
       "    <tr>\n",
       "      <th>Cabrera High School</th>\n",
       "      <td>Charter</td>\n",
       "      <td>1858</td>\n",
       "      <td>1081356</td>\n",
       "      <td>582.0</td>\n",
       "      <td>83.061895</td>\n",
       "      <td>83.975780</td>\n",
       "      <td>1749</td>\n",
       "      <td>1803</td>\n",
       "      <td>91.334769</td>\n",
       "    </tr>\n",
       "    <tr>\n",
       "      <th>Figueroa High School</th>\n",
       "      <td>District</td>\n",
       "      <td>2949</td>\n",
       "      <td>1884411</td>\n",
       "      <td>639.0</td>\n",
       "      <td>76.711767</td>\n",
       "      <td>81.158020</td>\n",
       "      <td>1946</td>\n",
       "      <td>2381</td>\n",
       "      <td>53.204476</td>\n",
       "    </tr>\n",
       "    <tr>\n",
       "      <th>Ford High School</th>\n",
       "      <td>District</td>\n",
       "      <td>2739</td>\n",
       "      <td>1763916</td>\n",
       "      <td>644.0</td>\n",
       "      <td>77.102592</td>\n",
       "      <td>80.746258</td>\n",
       "      <td>1871</td>\n",
       "      <td>2172</td>\n",
       "      <td>54.289887</td>\n",
       "    </tr>\n",
       "    <tr>\n",
       "      <th>Griffin High School</th>\n",
       "      <td>Charter</td>\n",
       "      <td>1468</td>\n",
       "      <td>917500</td>\n",
       "      <td>625.0</td>\n",
       "      <td>83.351499</td>\n",
       "      <td>83.816757</td>\n",
       "      <td>1371</td>\n",
       "      <td>1426</td>\n",
       "      <td>90.599455</td>\n",
       "    </tr>\n",
       "  </tbody>\n",
       "</table>\n",
       "</div>"
      ],
      "text/plain": [
       "                     School Type  Total Students  Total School Budget  \\\n",
       "school_name                                                             \n",
       "Bailey High School      District            4976              3124928   \n",
       "Cabrera High School      Charter            1858              1081356   \n",
       "Figueroa High School    District            2949              1884411   \n",
       "Ford High School        District            2739              1763916   \n",
       "Griffin High School      Charter            1468               917500   \n",
       "\n",
       "                      Per Student Budget  Average Math Score  \\\n",
       "school_name                                                    \n",
       "Bailey High School                 628.0           77.048432   \n",
       "Cabrera High School                582.0           83.061895   \n",
       "Figueroa High School               639.0           76.711767   \n",
       "Ford High School                   644.0           77.102592   \n",
       "Griffin High School                625.0           83.351499   \n",
       "\n",
       "                      Average Reading Score  % Passing Math  \\\n",
       "school_name                                                   \n",
       "Bailey High School                81.033963            3318   \n",
       "Cabrera High School               83.975780            1749   \n",
       "Figueroa High School              81.158020            1946   \n",
       "Ford High School                  80.746258            1871   \n",
       "Griffin High School               83.816757            1371   \n",
       "\n",
       "                      % Passing Reading  % Overall Passing  \n",
       "school_name                                                 \n",
       "Bailey High School                 4077          54.642283  \n",
       "Cabrera High School                1803          91.334769  \n",
       "Figueroa High School               2381          53.204476  \n",
       "Ford High School                   2172          54.289887  \n",
       "Griffin High School                1426          90.599455  "
      ]
     },
     "execution_count": 57,
     "metadata": {},
     "output_type": "execute_result"
    }
   ],
   "source": [
    "per_school_summary_df = pd.DataFrame({\n",
    "             \"School Type\": per_school_types,\n",
    "             \"Total Students\": per_school_counts,\n",
    "             \"Total School Budget\": per_school_budget,\n",
    "             \"Per Student Budget\": per_school_capita,\n",
    "             \"Average Math Score\": per_school_math,\n",
    "           \"Average Reading Score\": per_school_reading,\n",
    "           \"% Passing Math\": per_school_passing_math,\n",
    "           \"% Passing Reading\": per_school_passing_reading,\n",
    "           \"% Overall Passing\": per_overall_passing_percentage})\n",
    "per_school_summary_df.head()"
   ]
  },
  {
   "cell_type": "code",
   "execution_count": 58,
   "id": "572e9462",
   "metadata": {},
   "outputs": [],
   "source": [
    "per_school_summary_df['Total School Budget'] = per_school_summary_df['Total School Budget'].map(\"${:,}\".format)"
   ]
  },
  {
   "cell_type": "code",
   "execution_count": 59,
   "id": "0370f7b8",
   "metadata": {},
   "outputs": [],
   "source": [
    "per_school_summary_df['Per Student Budget'] = per_school_summary_df['Per Student Budget'].map(\"${:,}\".format)"
   ]
  },
  {
   "cell_type": "code",
   "execution_count": 60,
   "id": "dca65c4d",
   "metadata": {},
   "outputs": [
    {
     "data": {
      "text/html": [
       "<div>\n",
       "<style scoped>\n",
       "    .dataframe tbody tr th:only-of-type {\n",
       "        vertical-align: middle;\n",
       "    }\n",
       "\n",
       "    .dataframe tbody tr th {\n",
       "        vertical-align: top;\n",
       "    }\n",
       "\n",
       "    .dataframe thead th {\n",
       "        text-align: right;\n",
       "    }\n",
       "</style>\n",
       "<table border=\"1\" class=\"dataframe\">\n",
       "  <thead>\n",
       "    <tr style=\"text-align: right;\">\n",
       "      <th></th>\n",
       "      <th>School Type</th>\n",
       "      <th>Total Students</th>\n",
       "      <th>Total School Budget</th>\n",
       "      <th>Per Student Budget</th>\n",
       "      <th>Average Math Score</th>\n",
       "      <th>Average Reading Score</th>\n",
       "      <th>% Passing Math</th>\n",
       "      <th>% Passing Reading</th>\n",
       "      <th>% Overall Passing</th>\n",
       "    </tr>\n",
       "    <tr>\n",
       "      <th>school_name</th>\n",
       "      <th></th>\n",
       "      <th></th>\n",
       "      <th></th>\n",
       "      <th></th>\n",
       "      <th></th>\n",
       "      <th></th>\n",
       "      <th></th>\n",
       "      <th></th>\n",
       "      <th></th>\n",
       "    </tr>\n",
       "  </thead>\n",
       "  <tbody>\n",
       "    <tr>\n",
       "      <th>Bailey High School</th>\n",
       "      <td>District</td>\n",
       "      <td>4976</td>\n",
       "      <td>$3,124,928</td>\n",
       "      <td>$628.0</td>\n",
       "      <td>77.048432</td>\n",
       "      <td>81.033963</td>\n",
       "      <td>3318</td>\n",
       "      <td>4077</td>\n",
       "      <td>54.642283</td>\n",
       "    </tr>\n",
       "    <tr>\n",
       "      <th>Cabrera High School</th>\n",
       "      <td>Charter</td>\n",
       "      <td>1858</td>\n",
       "      <td>$1,081,356</td>\n",
       "      <td>$582.0</td>\n",
       "      <td>83.061895</td>\n",
       "      <td>83.975780</td>\n",
       "      <td>1749</td>\n",
       "      <td>1803</td>\n",
       "      <td>91.334769</td>\n",
       "    </tr>\n",
       "    <tr>\n",
       "      <th>Figueroa High School</th>\n",
       "      <td>District</td>\n",
       "      <td>2949</td>\n",
       "      <td>$1,884,411</td>\n",
       "      <td>$639.0</td>\n",
       "      <td>76.711767</td>\n",
       "      <td>81.158020</td>\n",
       "      <td>1946</td>\n",
       "      <td>2381</td>\n",
       "      <td>53.204476</td>\n",
       "    </tr>\n",
       "    <tr>\n",
       "      <th>Ford High School</th>\n",
       "      <td>District</td>\n",
       "      <td>2739</td>\n",
       "      <td>$1,763,916</td>\n",
       "      <td>$644.0</td>\n",
       "      <td>77.102592</td>\n",
       "      <td>80.746258</td>\n",
       "      <td>1871</td>\n",
       "      <td>2172</td>\n",
       "      <td>54.289887</td>\n",
       "    </tr>\n",
       "    <tr>\n",
       "      <th>Griffin High School</th>\n",
       "      <td>Charter</td>\n",
       "      <td>1468</td>\n",
       "      <td>$917,500</td>\n",
       "      <td>$625.0</td>\n",
       "      <td>83.351499</td>\n",
       "      <td>83.816757</td>\n",
       "      <td>1371</td>\n",
       "      <td>1426</td>\n",
       "      <td>90.599455</td>\n",
       "    </tr>\n",
       "    <tr>\n",
       "      <th>Hernandez High School</th>\n",
       "      <td>District</td>\n",
       "      <td>4635</td>\n",
       "      <td>$3,022,020</td>\n",
       "      <td>$652.0</td>\n",
       "      <td>77.289752</td>\n",
       "      <td>80.934412</td>\n",
       "      <td>3094</td>\n",
       "      <td>3748</td>\n",
       "      <td>53.527508</td>\n",
       "    </tr>\n",
       "    <tr>\n",
       "      <th>Holden High School</th>\n",
       "      <td>Charter</td>\n",
       "      <td>427</td>\n",
       "      <td>$248,087</td>\n",
       "      <td>$581.0</td>\n",
       "      <td>83.803279</td>\n",
       "      <td>83.814988</td>\n",
       "      <td>395</td>\n",
       "      <td>411</td>\n",
       "      <td>89.227166</td>\n",
       "    </tr>\n",
       "    <tr>\n",
       "      <th>Huang High School</th>\n",
       "      <td>District</td>\n",
       "      <td>2917</td>\n",
       "      <td>$1,910,635</td>\n",
       "      <td>$655.0</td>\n",
       "      <td>76.629414</td>\n",
       "      <td>81.182722</td>\n",
       "      <td>1916</td>\n",
       "      <td>2372</td>\n",
       "      <td>53.513884</td>\n",
       "    </tr>\n",
       "    <tr>\n",
       "      <th>Johnson High School</th>\n",
       "      <td>District</td>\n",
       "      <td>4761</td>\n",
       "      <td>$3,094,650</td>\n",
       "      <td>$650.0</td>\n",
       "      <td>77.072464</td>\n",
       "      <td>80.966394</td>\n",
       "      <td>3145</td>\n",
       "      <td>3867</td>\n",
       "      <td>53.539172</td>\n",
       "    </tr>\n",
       "    <tr>\n",
       "      <th>Pena High School</th>\n",
       "      <td>Charter</td>\n",
       "      <td>962</td>\n",
       "      <td>$585,858</td>\n",
       "      <td>$609.0</td>\n",
       "      <td>83.839917</td>\n",
       "      <td>84.044699</td>\n",
       "      <td>910</td>\n",
       "      <td>923</td>\n",
       "      <td>90.540541</td>\n",
       "    </tr>\n",
       "    <tr>\n",
       "      <th>Rodriguez High School</th>\n",
       "      <td>District</td>\n",
       "      <td>3999</td>\n",
       "      <td>$2,547,363</td>\n",
       "      <td>$637.0</td>\n",
       "      <td>76.842711</td>\n",
       "      <td>80.744686</td>\n",
       "      <td>2654</td>\n",
       "      <td>3208</td>\n",
       "      <td>52.988247</td>\n",
       "    </tr>\n",
       "    <tr>\n",
       "      <th>Shelton High School</th>\n",
       "      <td>Charter</td>\n",
       "      <td>1761</td>\n",
       "      <td>$1,056,600</td>\n",
       "      <td>$600.0</td>\n",
       "      <td>83.359455</td>\n",
       "      <td>83.725724</td>\n",
       "      <td>1653</td>\n",
       "      <td>1688</td>\n",
       "      <td>89.892107</td>\n",
       "    </tr>\n",
       "    <tr>\n",
       "      <th>Thomas High School</th>\n",
       "      <td>Charter</td>\n",
       "      <td>1635</td>\n",
       "      <td>$1,043,130</td>\n",
       "      <td>$638.0</td>\n",
       "      <td>83.418349</td>\n",
       "      <td>83.848930</td>\n",
       "      <td>1525</td>\n",
       "      <td>1591</td>\n",
       "      <td>90.948012</td>\n",
       "    </tr>\n",
       "    <tr>\n",
       "      <th>Wilson High School</th>\n",
       "      <td>Charter</td>\n",
       "      <td>2283</td>\n",
       "      <td>$1,319,574</td>\n",
       "      <td>$578.0</td>\n",
       "      <td>83.274201</td>\n",
       "      <td>83.989488</td>\n",
       "      <td>2143</td>\n",
       "      <td>2204</td>\n",
       "      <td>90.582567</td>\n",
       "    </tr>\n",
       "    <tr>\n",
       "      <th>Wright High School</th>\n",
       "      <td>Charter</td>\n",
       "      <td>1800</td>\n",
       "      <td>$1,049,400</td>\n",
       "      <td>$583.0</td>\n",
       "      <td>83.682222</td>\n",
       "      <td>83.955000</td>\n",
       "      <td>1680</td>\n",
       "      <td>1739</td>\n",
       "      <td>90.333333</td>\n",
       "    </tr>\n",
       "  </tbody>\n",
       "</table>\n",
       "</div>"
      ],
      "text/plain": [
       "                      School Type  Total Students Total School Budget  \\\n",
       "school_name                                                             \n",
       "Bailey High School       District            4976          $3,124,928   \n",
       "Cabrera High School       Charter            1858          $1,081,356   \n",
       "Figueroa High School     District            2949          $1,884,411   \n",
       "Ford High School         District            2739          $1,763,916   \n",
       "Griffin High School       Charter            1468            $917,500   \n",
       "Hernandez High School    District            4635          $3,022,020   \n",
       "Holden High School        Charter             427            $248,087   \n",
       "Huang High School        District            2917          $1,910,635   \n",
       "Johnson High School      District            4761          $3,094,650   \n",
       "Pena High School          Charter             962            $585,858   \n",
       "Rodriguez High School    District            3999          $2,547,363   \n",
       "Shelton High School       Charter            1761          $1,056,600   \n",
       "Thomas High School        Charter            1635          $1,043,130   \n",
       "Wilson High School        Charter            2283          $1,319,574   \n",
       "Wright High School        Charter            1800          $1,049,400   \n",
       "\n",
       "                      Per Student Budget  Average Math Score  \\\n",
       "school_name                                                    \n",
       "Bailey High School                $628.0           77.048432   \n",
       "Cabrera High School               $582.0           83.061895   \n",
       "Figueroa High School              $639.0           76.711767   \n",
       "Ford High School                  $644.0           77.102592   \n",
       "Griffin High School               $625.0           83.351499   \n",
       "Hernandez High School             $652.0           77.289752   \n",
       "Holden High School                $581.0           83.803279   \n",
       "Huang High School                 $655.0           76.629414   \n",
       "Johnson High School               $650.0           77.072464   \n",
       "Pena High School                  $609.0           83.839917   \n",
       "Rodriguez High School             $637.0           76.842711   \n",
       "Shelton High School               $600.0           83.359455   \n",
       "Thomas High School                $638.0           83.418349   \n",
       "Wilson High School                $578.0           83.274201   \n",
       "Wright High School                $583.0           83.682222   \n",
       "\n",
       "                       Average Reading Score  % Passing Math  \\\n",
       "school_name                                                    \n",
       "Bailey High School                 81.033963            3318   \n",
       "Cabrera High School                83.975780            1749   \n",
       "Figueroa High School               81.158020            1946   \n",
       "Ford High School                   80.746258            1871   \n",
       "Griffin High School                83.816757            1371   \n",
       "Hernandez High School              80.934412            3094   \n",
       "Holden High School                 83.814988             395   \n",
       "Huang High School                  81.182722            1916   \n",
       "Johnson High School                80.966394            3145   \n",
       "Pena High School                   84.044699             910   \n",
       "Rodriguez High School              80.744686            2654   \n",
       "Shelton High School                83.725724            1653   \n",
       "Thomas High School                 83.848930            1525   \n",
       "Wilson High School                 83.989488            2143   \n",
       "Wright High School                 83.955000            1680   \n",
       "\n",
       "                       % Passing Reading  % Overall Passing  \n",
       "school_name                                                  \n",
       "Bailey High School                  4077          54.642283  \n",
       "Cabrera High School                 1803          91.334769  \n",
       "Figueroa High School                2381          53.204476  \n",
       "Ford High School                    2172          54.289887  \n",
       "Griffin High School                 1426          90.599455  \n",
       "Hernandez High School               3748          53.527508  \n",
       "Holden High School                   411          89.227166  \n",
       "Huang High School                   2372          53.513884  \n",
       "Johnson High School                 3867          53.539172  \n",
       "Pena High School                     923          90.540541  \n",
       "Rodriguez High School               3208          52.988247  \n",
       "Shelton High School                 1688          89.892107  \n",
       "Thomas High School                  1591          90.948012  \n",
       "Wilson High School                  2204          90.582567  \n",
       "Wright High School                  1739          90.333333  "
      ]
     },
     "execution_count": 60,
     "metadata": {},
     "output_type": "execute_result"
    }
   ],
   "source": [
    "per_school_summary_df"
   ]
  },
  {
   "cell_type": "code",
   "execution_count": null,
   "id": "b7be8396",
   "metadata": {},
   "outputs": [],
   "source": []
  }
 ],
 "metadata": {
  "kernelspec": {
   "display_name": "PythonData",
   "language": "python",
   "name": "pythondata"
  },
  "language_info": {
   "codemirror_mode": {
    "name": "ipython",
    "version": 3
   },
   "file_extension": ".py",
   "mimetype": "text/x-python",
   "name": "python",
   "nbconvert_exporter": "python",
   "pygments_lexer": "ipython3",
   "version": "3.9.12"
  }
 },
 "nbformat": 4,
 "nbformat_minor": 5
}
